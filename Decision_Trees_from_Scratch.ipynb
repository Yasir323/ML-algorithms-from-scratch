{
  "nbformat": 4,
  "nbformat_minor": 0,
  "metadata": {
    "colab": {
      "name": "Decision Trees from Scratch.ipynb",
      "provenance": [],
      "authorship_tag": "ABX9TyN+hzTT8fEsuJ17nNEvjOCb",
      "include_colab_link": true
    },
    "kernelspec": {
      "name": "python3",
      "display_name": "Python 3"
    },
    "language_info": {
      "name": "python"
    }
  },
  "cells": [
    {
      "cell_type": "markdown",
      "metadata": {
        "id": "view-in-github",
        "colab_type": "text"
      },
      "source": [
        "<a href=\"https://colab.research.google.com/github/Yasir323/ML-algorithms-from-scratch/blob/main/Decision_Trees_from_Scratch.ipynb\" target=\"_parent\"><img src=\"https://colab.research.google.com/assets/colab-badge.svg\" alt=\"Open In Colab\"/></a>"
      ]
    },
    {
      "cell_type": "code",
      "metadata": {
        "id": "va_CWxbtZxCz"
      },
      "source": [
        "from typing import List\n",
        "import math"
      ],
      "execution_count": 1,
      "outputs": []
    },
    {
      "cell_type": "markdown",
      "metadata": {
        "id": "E26CAPzifxLn"
      },
      "source": [
        "$Entropy, H(S) = -\\sum_i^n p_i log_2(p_i)$"
      ]
    },
    {
      "cell_type": "code",
      "metadata": {
        "id": "oobZ2YcpbIzV"
      },
      "source": [
        "def entropy(class_probabilities: List[float]) -> float:\n",
        "    \"\"\"Given a list of class probabilities, compute the entropy\"\"\"\n",
        "    return sum(-p * math.log(p, 2) for p in class_probabilities if p > 0)"
      ],
      "execution_count": 2,
      "outputs": []
    },
    {
      "cell_type": "code",
      "metadata": {
        "colab": {
          "base_uri": "https://localhost:8080/"
        },
        "id": "RDs8CjiOb__d",
        "outputId": "fdf48d2c-3d6c-4060-f768-d1ffc266ef24"
      },
      "source": [
        "entropy([1.0])"
      ],
      "execution_count": 3,
      "outputs": [
        {
          "output_type": "execute_result",
          "data": {
            "text/plain": [
              "0.0"
            ]
          },
          "metadata": {
            "tags": []
          },
          "execution_count": 3
        }
      ]
    },
    {
      "cell_type": "code",
      "metadata": {
        "id": "Slo7NJOPcFsF"
      },
      "source": [
        "assert entropy([0.5, 0.5]) == 1"
      ],
      "execution_count": 4,
      "outputs": []
    },
    {
      "cell_type": "code",
      "metadata": {
        "id": "xZ7GgOHJcOG4"
      },
      "source": [
        "from typing import Any\n",
        "from collections import Counter"
      ],
      "execution_count": 5,
      "outputs": []
    },
    {
      "cell_type": "code",
      "metadata": {
        "id": "nBzLmz1QcWuC"
      },
      "source": [
        "def class_probabilities(labels: List[Any]) -> List[float]:\n",
        "    total_count = len(labels)\n",
        "    return [count / total_count for count in Counter(labels).values()]"
      ],
      "execution_count": 6,
      "outputs": []
    },
    {
      "cell_type": "code",
      "metadata": {
        "id": "qwgSLFBMcsbU"
      },
      "source": [
        "def data_entropy(labels: List[Any]) -> float:\n",
        "    return entropy(class_probabilities(labels))"
      ],
      "execution_count": 7,
      "outputs": []
    },
    {
      "cell_type": "code",
      "metadata": {
        "colab": {
          "base_uri": "https://localhost:8080/"
        },
        "id": "jYH5MvnBdBUx",
        "outputId": "4ffc743c-d1ea-4578-d0a6-52080f0b96c9"
      },
      "source": [
        "print(data_entropy(['a']))\n",
        "print(data_entropy([True, False]))\n",
        "print(data_entropy([3, 4, 4, 4]))"
      ],
      "execution_count": 8,
      "outputs": [
        {
          "output_type": "stream",
          "text": [
            "0.0\n",
            "1.0\n",
            "0.8112781244591328\n"
          ],
          "name": "stdout"
        }
      ]
    },
    {
      "cell_type": "markdown",
      "metadata": {
        "id": "TPpzfsjQgStq"
      },
      "source": [
        "Partition Entropy, $ H = q_1H(S_1) + ... + q_m H(S_m) $"
      ]
    },
    {
      "cell_type": "code",
      "metadata": {
        "id": "W3HE8y1OdqGn"
      },
      "source": [
        "def partition_entropy(subsets: List[List[Any]]) -> float:\n",
        "    \"\"\"Returns the entropy from this partition of data into subsets\"\"\"\n",
        "    total_count = sum(len(subset) for subset in subsets)\n",
        "    # Return H = H(s1) * q1 + ... + H(Sm) * qm\n",
        "    return sum(data_entropy(subset) * len(subset) / total_count for subset in subsets)"
      ],
      "execution_count": 9,
      "outputs": []
    },
    {
      "cell_type": "code",
      "metadata": {
        "id": "A7CJXaP4iVEi"
      },
      "source": [
        "from typing import NamedTuple, Optional"
      ],
      "execution_count": 10,
      "outputs": []
    },
    {
      "cell_type": "code",
      "metadata": {
        "id": "plETc62OjKpT"
      },
      "source": [
        "class Candidate(NamedTuple):\n",
        "    level: str\n",
        "    lang: str\n",
        "    tweets: bool\n",
        "    phd: bool\n",
        "    did_well: Optional[bool] = None # allow unlabeld data"
      ],
      "execution_count": 11,
      "outputs": []
    },
    {
      "cell_type": "code",
      "metadata": {
        "id": "0Q3HM9-Ejedn"
      },
      "source": [
        "inputs = [Candidate('Senior', 'Java', False, False, False),\n",
        "    Candidate('Senior', 'Java', False, True, False),\n",
        "    Candidate('Mid', 'Python', False, False, True),\n",
        "    Candidate('Junior', 'Python', False, False, True),\n",
        "    Candidate('Junior', 'R', True, False, True),\n",
        "    Candidate('Junior', 'R', True, True, False),\n",
        "    Candidate('Mid', 'R', True, True, True),\n",
        "    Candidate('Senior', 'Python', False, False, False),\n",
        "    Candidate('Senior', 'R', True, False, True),\n",
        "    Candidate('Junior', 'Python', True, False, True),\n",
        "    Candidate('Senior', 'Python', True, True, True),\n",
        "    Candidate('Mid', 'Python', False, True, True),\n",
        "    Candidate('Mid', 'Java', True, False, True),\n",
        "    Candidate('Junior', 'Python', False, True, False)\n",
        "]"
      ],
      "execution_count": 12,
      "outputs": []
    },
    {
      "cell_type": "markdown",
      "metadata": {
        "id": "VK4eIkzkjoN2"
      },
      "source": [
        "Our tree will consist of decision nodes (which ask a question and direct us\n",
        "differently depending on the answer) and leaf nodes (which give us a\n",
        "prediction). We will build it using the relatively simple ID3 algorithm,\n",
        "which operates in the following manner. Let’s say we’re given some labeled\n",
        "data, and a list of attributes to consider branching on:\n",
        "\n",
        "* If the data all have the same label, create a leaf node that predicts\n",
        "that label and then stop.\n",
        "\n",
        "* If the list of attributes is empty (i.e., there are no more possible questions to ask), create a leaf node that predicts the most common label and then stop.\n",
        "\n",
        "* Otherwise, try partitioning the data by each of the attributes.\n",
        "\n",
        "* Choose the partition with the lowest partition entropy.\n",
        "\n",
        "* Add a decision node based on the chosen attribute.\n",
        "\n",
        "* Recur on each partitioned subset using the remaining attributes."
      ]
    },
    {
      "cell_type": "code",
      "metadata": {
        "id": "9WLuuN0ikSfg"
      },
      "source": [
        "from typing import Dict, TypeVar\n",
        "from collections import defaultdict"
      ],
      "execution_count": 13,
      "outputs": []
    },
    {
      "cell_type": "code",
      "metadata": {
        "id": "ldpaZ5otkhQj"
      },
      "source": [
        "T = TypeVar('T')  # Generic type for inputs"
      ],
      "execution_count": 14,
      "outputs": []
    },
    {
      "cell_type": "code",
      "metadata": {
        "id": "jYa5vmzJkoUg"
      },
      "source": [
        "# Function that does the partitioning\n",
        "def partition_by(inputs: List[T], attribute: str) -> Dict[Any, List[T]]:\n",
        "    \"\"\"partition the inputs into lists based on the specified attribute\"\"\"\n",
        "    partitions: Dict[Any, List[T]] = defaultdict(list)\n",
        "    for input_ in inputs:\n",
        "        key = getattr(input_, attribute)  # Value of the specified attribute\n",
        "        partitions[key].append(input_)  # Add input to the correct partition\n",
        "    return partitions"
      ],
      "execution_count": 15,
      "outputs": []
    },
    {
      "cell_type": "code",
      "metadata": {
        "id": "yS7NJepbuNyM"
      },
      "source": [
        "# Function to compute entropy of a partition\n",
        "def partition_entropy_by(inputs: List[Any], attribute: str, label_attribute: str) -> float:\n",
        "    \"\"\"Compute entropy corresponding to the given partition\"\"\"\n",
        "    # partitions consist of our inputs\n",
        "    partitions = partition_by(inputs, attribute)\n",
        "    # But the partition_entropy needs the class labels\n",
        "    labels = [[getattr(input_,label_attribute) for input_ in partition]\n",
        "              for partition in partitions.values()]\n",
        "    return partition_entropy(labels)"
      ],
      "execution_count": 16,
      "outputs": []
    },
    {
      "cell_type": "code",
      "metadata": {
        "colab": {
          "base_uri": "https://localhost:8080/"
        },
        "id": "rPEiQFqRvzr4",
        "outputId": "b14d7100-36b5-482d-ab58-c913c7724ce4"
      },
      "source": [
        "for key in ['level', 'lang', 'tweets', 'phd']:\n",
        "    print(key, partition_entropy_by(inputs, key, 'did_well'))"
      ],
      "execution_count": 17,
      "outputs": [
        {
          "output_type": "stream",
          "text": [
            "level 0.6935361388961919\n",
            "lang 0.8601317128547441\n",
            "tweets 0.7884504573082896\n",
            "phd 0.8921589282623617\n"
          ],
          "name": "stdout"
        }
      ]
    },
    {
      "cell_type": "markdown",
      "metadata": {
        "id": "U97jn4sP1ldL"
      },
      "source": [
        "The lowest entropy comes from splitting on level, so we’ll need to make a\n",
        "subtree for each possible level value. Every Mid candidate is labeled True,\n",
        "which means that the Mid subtree is simply a leaf node predicting True. For\n",
        "Senior candidates, we have a mix of Trues and Falses, so we need to split\n",
        "again:"
      ]
    },
    {
      "cell_type": "code",
      "metadata": {
        "id": "oikvUtGR0hJE"
      },
      "source": [
        "senior_inputs = [input_ for input_ in inputs if input_.level == 'Senior']"
      ],
      "execution_count": 18,
      "outputs": []
    },
    {
      "cell_type": "code",
      "metadata": {
        "colab": {
          "base_uri": "https://localhost:8080/"
        },
        "id": "g-tDLrEJ1uh4",
        "outputId": "0b5de25e-ecea-40ec-de19-bf8c8067224d"
      },
      "source": [
        "print(partition_entropy_by(senior_inputs, 'lang', 'did_well'))\n",
        "print(partition_entropy_by(senior_inputs, 'tweets', 'did_well'))\n",
        "print(partition_entropy_by(senior_inputs, 'phd', 'did_well') )"
      ],
      "execution_count": 19,
      "outputs": [
        {
          "output_type": "stream",
          "text": [
            "0.4\n",
            "0.0\n",
            "0.9509775004326938\n"
          ],
          "name": "stdout"
        }
      ]
    },
    {
      "cell_type": "markdown",
      "metadata": {
        "id": "7On36CxC2MmC"
      },
      "source": [
        "This shows us that our next split should be on tweets, which results in a\n",
        "zero-entropy partition. For these Senior-level candidates, “yes” tweets\n",
        "always result in True while “no” tweets always result in False.\n",
        "\n",
        "Finally, if we do the same thing for the Junior candidates, we end up\n",
        "splitting on phd, after which we find that no PhD always results in True and\n",
        "PhD always results in False."
      ]
    },
    {
      "cell_type": "markdown",
      "metadata": {
        "id": "YQJ_MiE82hVa"
      },
      "source": [
        "## Putting it all together\n",
        "We define a tree to be either:\n",
        "\n",
        "* a **Leaf** (that predicts a single value), or\n",
        "* a **Split** (containing an attribute to split on, subtrees for specific\n",
        "values of that attribute, and possibly a default value to use if we\n",
        "see an unknown value)."
      ]
    },
    {
      "cell_type": "code",
      "metadata": {
        "id": "UOvqB0rn3Mk9"
      },
      "source": [
        "from typing import Union"
      ],
      "execution_count": 20,
      "outputs": []
    },
    {
      "cell_type": "code",
      "metadata": {
        "id": "zciFt2_I12JO"
      },
      "source": [
        "class Leaf(NamedTuple):\n",
        "    value: Any"
      ],
      "execution_count": 21,
      "outputs": []
    },
    {
      "cell_type": "code",
      "metadata": {
        "id": "qTZcPGZS2055"
      },
      "source": [
        "class Split(NamedTuple):\n",
        "    attribute: str\n",
        "    subtrees: dict\n",
        "    default_value: Any = None"
      ],
      "execution_count": 22,
      "outputs": []
    },
    {
      "cell_type": "code",
      "metadata": {
        "id": "q1GD55BJ3BW_"
      },
      "source": [
        "DecisionTree = Union[Leaf, Split]"
      ],
      "execution_count": 23,
      "outputs": []
    },
    {
      "cell_type": "code",
      "metadata": {
        "id": "hkuro6pr3JMc"
      },
      "source": [
        "# With this representation, our hiring tree would look like:\n",
        "hiring_tree = Split('level', { # first, consider \"level\"\n",
        "    'Junior': Split('phd', { # if level is \"Junior\", next look at \"phd\"\n",
        "        False: Leaf(True), # if \"phd\" is False, predict True\n",
        "        True: Leaf(False) # if \"phd\" is True, predict False\n",
        "    }),\n",
        "    'Mid': Leaf(True), # if level is \"Mid\", just predict True\n",
        "    'Senior': Split('tweets', { # if level is \"Senior\", look at \"tweets\"\n",
        "        False: Leaf(False), # if \"tweets\" is False, predict False\n",
        "        True: Leaf(True) # if \"tweets\" is True, predict True\n",
        "    })\n",
        "})"
      ],
      "execution_count": 24,
      "outputs": []
    },
    {
      "cell_type": "markdown",
      "metadata": {
        "id": "zhMG76Pk3mj-"
      },
      "source": [
        "There’s still the question of what to do if we encounter an unexpected (or\n",
        "missing) attribute value. What should our hiring tree do if it encounters a\n",
        "candidate whose level is Intern? We’ll handle this case by populating the\n",
        "default_value attribute with the most common label."
      ]
    },
    {
      "cell_type": "code",
      "metadata": {
        "id": "cbaDAbrR3fEk"
      },
      "source": [
        "def classify(tree: DecisionTree, input_: Any) -> Any:\n",
        "    \"\"\"Classify the input using the given decision tree\"\"\"\n",
        "    # If this is a leaf node, return its value\n",
        "    if isinstance(tree, Leaf):\n",
        "        return tree.value\n",
        "    # Otherwise this tree consists of an an attribute to split on\n",
        "    # and a dictionary whose keys are values of that attribute\n",
        "    # and whose values are subtrees to consider next\n",
        "    subtree_key = getattr(input_, tree.attribute)\n",
        "\n",
        "    # If no subtree for key\n",
        "    if subtree_key not in tree.subtrees:\n",
        "        # Return the default value\n",
        "        return tree.default_value\n",
        "\n",
        "    # Choose the appropriate subtree\n",
        "    subtree = tree.subtrees[subtree_key]\n",
        "    # And use it to classify the input\n",
        "    return classify(subtree, input_)"
      ],
      "execution_count": 25,
      "outputs": []
    },
    {
      "cell_type": "markdown",
      "metadata": {
        "id": "XmXut5Fz4-IM"
      },
      "source": [
        "## Build the tree representation"
      ]
    },
    {
      "cell_type": "code",
      "metadata": {
        "id": "9rxCZvmN450H"
      },
      "source": [
        "def build_tree_id3(inputs: List[Any],\n",
        "                   split_attributes: List[str],\n",
        "                   target_attribute: str) -> DecisionTree:\n",
        "    \n",
        "    # Count Target labels\n",
        "    label_counts = Counter(getattr(input_, target_attribute)\n",
        "                            for input_ in inputs)\n",
        "    most_common_label = label_counts.most_common(1)[0][0]\n",
        "\n",
        "    # If there's a unique label, predict that only\n",
        "    if len(label_counts) == 1:\n",
        "        return Leaf(most_common_label)\n",
        "\n",
        "    # If no split attribtes left, return the , majority label\n",
        "    if not split_attributes:\n",
        "        return Leaf(most_common_label)\n",
        "\n",
        "    # Otherwise split by the best attribute\n",
        "\n",
        "    def split_entropy(attribute: str) -> float:\n",
        "        \"\"\"Helper funtion for finding the best attribute\"\"\"\n",
        "        return partition_entropy_by(inputs, attribute, target_attribute)\n",
        "\n",
        "    best_attribute = min(split_attributes, key=split_entropy)\n",
        "\n",
        "    partitions = partition_by(inputs, best_attribute)\n",
        "    new_attributes = [a for a in split_attributes if a != best_attribute]\n",
        "\n",
        "    # Recursively build subtrees\n",
        "    subtrees = {\n",
        "        attribute_value: build_tree_id3(\n",
        "            subset,\n",
        "            new_attributes,\n",
        "            target_attribute\n",
        "        ) for attribute_value, subset in partitions.items()\n",
        "    }\n",
        "    return Split(best_attribute, subtrees, default_value=most_common_label)"
      ],
      "execution_count": 26,
      "outputs": []
    },
    {
      "cell_type": "code",
      "metadata": {
        "id": "q10jAVkj99aD"
      },
      "source": [
        "tree = build_tree_id3(\n",
        "    inputs,\n",
        "    ['level', 'lang', 'tweets', 'phd'],\n",
        "    'did_well'\n",
        ")"
      ],
      "execution_count": 27,
      "outputs": []
    },
    {
      "cell_type": "code",
      "metadata": {
        "colab": {
          "base_uri": "https://localhost:8080/"
        },
        "id": "R4B5ZzwY-RvQ",
        "outputId": "882ff4b7-d438-4cda-aeb9-2662f836e1a9"
      },
      "source": [
        "# Should be True\n",
        "classify(tree, Candidate(\"Junior\", \"Java\", True, False))"
      ],
      "execution_count": 28,
      "outputs": [
        {
          "output_type": "execute_result",
          "data": {
            "text/plain": [
              "True"
            ]
          },
          "metadata": {
            "tags": []
          },
          "execution_count": 28
        }
      ]
    },
    {
      "cell_type": "code",
      "metadata": {
        "colab": {
          "base_uri": "https://localhost:8080/"
        },
        "id": "O9hvOpoB-hNY",
        "outputId": "4cc15271-1ba1-4ef9-fc40-d56a950eb590"
      },
      "source": [
        "# Should be True\n",
        "classify(tree, Candidate(\"Junior\", \"Java\", True, True))"
      ],
      "execution_count": 29,
      "outputs": [
        {
          "output_type": "execute_result",
          "data": {
            "text/plain": [
              "False"
            ]
          },
          "metadata": {
            "tags": []
          },
          "execution_count": 29
        }
      ]
    },
    {
      "cell_type": "code",
      "metadata": {
        "colab": {
          "base_uri": "https://localhost:8080/"
        },
        "id": "d4COsB9f-mJH",
        "outputId": "d410bf63-ebf8-4882-a3fe-90815bf1913d"
      },
      "source": [
        "# And also to data with unexpected values:\n",
        "# Should predict True\n",
        "classify(tree, Candidate(\"Intern\", \"Java\", True, True))"
      ],
      "execution_count": 30,
      "outputs": [
        {
          "output_type": "execute_result",
          "data": {
            "text/plain": [
              "True"
            ]
          },
          "metadata": {
            "tags": []
          },
          "execution_count": 30
        }
      ]
    }
  ]
}